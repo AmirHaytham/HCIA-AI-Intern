{
 "cells": [
  {
   "cell_type": "markdown",
   "metadata": {},
   "source": [
    "## import packages"
   ]
  },
  {
   "cell_type": "code",
   "execution_count": 2,
   "metadata": {},
   "outputs": [
    {
     "name": "stderr",
     "output_type": "stream",
     "text": [
      "C:\\Users\\Iman\\Anaconda3\\envs\\TENS\\lib\\site-packages\\tensorflow\\python\\framework\\dtypes.py:519: FutureWarning: Passing (type, 1) or '1type' as a synonym of type is deprecated; in a future version of numpy, it will be understood as (type, (1,)) / '(1,)type'.\n",
      "  _np_qint8 = np.dtype([(\"qint8\", np.int8, 1)])\n",
      "C:\\Users\\Iman\\Anaconda3\\envs\\TENS\\lib\\site-packages\\tensorflow\\python\\framework\\dtypes.py:520: FutureWarning: Passing (type, 1) or '1type' as a synonym of type is deprecated; in a future version of numpy, it will be understood as (type, (1,)) / '(1,)type'.\n",
      "  _np_quint8 = np.dtype([(\"quint8\", np.uint8, 1)])\n",
      "C:\\Users\\Iman\\Anaconda3\\envs\\TENS\\lib\\site-packages\\tensorflow\\python\\framework\\dtypes.py:521: FutureWarning: Passing (type, 1) or '1type' as a synonym of type is deprecated; in a future version of numpy, it will be understood as (type, (1,)) / '(1,)type'.\n",
      "  _np_qint16 = np.dtype([(\"qint16\", np.int16, 1)])\n",
      "C:\\Users\\Iman\\Anaconda3\\envs\\TENS\\lib\\site-packages\\tensorflow\\python\\framework\\dtypes.py:522: FutureWarning: Passing (type, 1) or '1type' as a synonym of type is deprecated; in a future version of numpy, it will be understood as (type, (1,)) / '(1,)type'.\n",
      "  _np_quint16 = np.dtype([(\"quint16\", np.uint16, 1)])\n",
      "C:\\Users\\Iman\\Anaconda3\\envs\\TENS\\lib\\site-packages\\tensorflow\\python\\framework\\dtypes.py:523: FutureWarning: Passing (type, 1) or '1type' as a synonym of type is deprecated; in a future version of numpy, it will be understood as (type, (1,)) / '(1,)type'.\n",
      "  _np_qint32 = np.dtype([(\"qint32\", np.int32, 1)])\n",
      "C:\\Users\\Iman\\Anaconda3\\envs\\TENS\\lib\\site-packages\\tensorflow\\python\\framework\\dtypes.py:528: FutureWarning: Passing (type, 1) or '1type' as a synonym of type is deprecated; in a future version of numpy, it will be understood as (type, (1,)) / '(1,)type'.\n",
      "  np_resource = np.dtype([(\"resource\", np.ubyte, 1)])\n"
     ]
    }
   ],
   "source": [
    "import tensorflow as tf\n",
    "import numpy as np"
   ]
  },
  {
   "cell_type": "code",
   "execution_count": 11,
   "metadata": {},
   "outputs": [
    {
     "data": {
      "text/plain": [
       "array([[[[ 1.  ],\n",
       "         [ 3.  ],\n",
       "         [ 0.13],\n",
       "         [27.  ]],\n",
       "\n",
       "        [[ 9.  ],\n",
       "         [-2.5 ],\n",
       "         [ 3.6 ],\n",
       "         [-1.  ]],\n",
       "\n",
       "        [[ 4.  ],\n",
       "         [ 0.  ],\n",
       "         [ 5.  ],\n",
       "         [ 6.  ]],\n",
       "\n",
       "        [[15.  ],\n",
       "         [ 1.  ],\n",
       "         [ 2.  ],\n",
       "         [ 3.  ]]]])"
      ]
     },
     "execution_count": 11,
     "metadata": {},
     "output_type": "execute_result"
    }
   ],
   "source": [
    "import numpy as np\n",
    "x = np.array([\n",
    "    [ 1,    3, 0.13,  27],\n",
    "    [ 9, -2.5,  3.6,  -1],\n",
    "    [ 4,    0,    5,   6],\n",
    "    [15,    1,    2,   3]]).reshape((1, 4, 4, 1))\n",
    "x"
   ]
  },
  {
   "cell_type": "markdown",
   "metadata": {
    "collapsed": true
   },
   "source": [
    "* tf.nn.conv2d()\n",
    "* tf.nn.max_pool"
   ]
  },
  {
   "cell_type": "markdown",
   "metadata": {},
   "source": [
    "## Build convolution algorithm"
   ]
  },
  {
   "cell_type": "code",
   "execution_count": 1,
   "metadata": {},
   "outputs": [
    {
     "ename": "NameError",
     "evalue": "name 'np' is not defined",
     "output_type": "error",
     "traceback": [
      "\u001b[1;31m---------------------------------------------------------------------------\u001b[0m",
      "\u001b[1;31mNameError\u001b[0m                                 Traceback (most recent call last)",
      "\u001b[1;32m<ipython-input-1-96fd7846fed5>\u001b[0m in \u001b[0;36m<module>\u001b[1;34m\u001b[0m\n\u001b[1;32m----> 1\u001b[1;33m x = np.array([\n\u001b[0m\u001b[0;32m      2\u001b[0m     \u001b[1;33m[\u001b[0m \u001b[1;36m1\u001b[0m\u001b[1;33m,\u001b[0m    \u001b[1;36m3\u001b[0m\u001b[1;33m,\u001b[0m \u001b[1;36m0.13\u001b[0m\u001b[1;33m,\u001b[0m  \u001b[1;36m27\u001b[0m\u001b[1;33m]\u001b[0m\u001b[1;33m,\u001b[0m\u001b[1;33m\u001b[0m\u001b[1;33m\u001b[0m\u001b[0m\n\u001b[0;32m      3\u001b[0m     \u001b[1;33m[\u001b[0m \u001b[1;36m9\u001b[0m\u001b[1;33m,\u001b[0m \u001b[1;33m-\u001b[0m\u001b[1;36m2.5\u001b[0m\u001b[1;33m,\u001b[0m  \u001b[1;36m3.6\u001b[0m\u001b[1;33m,\u001b[0m  \u001b[1;33m-\u001b[0m\u001b[1;36m1\u001b[0m\u001b[1;33m]\u001b[0m\u001b[1;33m,\u001b[0m\u001b[1;33m\u001b[0m\u001b[1;33m\u001b[0m\u001b[0m\n\u001b[0;32m      4\u001b[0m     \u001b[1;33m[\u001b[0m \u001b[1;36m4\u001b[0m\u001b[1;33m,\u001b[0m    \u001b[1;36m0\u001b[0m\u001b[1;33m,\u001b[0m    \u001b[1;36m5\u001b[0m\u001b[1;33m,\u001b[0m   \u001b[1;36m6\u001b[0m\u001b[1;33m]\u001b[0m\u001b[1;33m,\u001b[0m\u001b[1;33m\u001b[0m\u001b[1;33m\u001b[0m\u001b[0m\n\u001b[0;32m      5\u001b[0m     [15,    1,    2,   3]])#, dtype=np.float32).reshape((1, 4, 4, 1))\n",
      "\u001b[1;31mNameError\u001b[0m: name 'np' is not defined"
     ]
    }
   ],
   "source": [
    "\n",
    "x = np.array([\n",
    "    [ 1,    3, 0.13,  27],\n",
    "    [ 9, -2.5,  3.6,  -1],\n",
    "    [ 4,    0,    5,   6],\n",
    "    [15,    1,    2,   3]]), dtype=np.float32).reshape((1, 4, 4, 1))\n",
    "\n",
    "print(x)\n",
    "X = tf.constant(x)\n",
    "\n",
    "\n",
    "def conv2d(input):\n",
    "    F_W = tf.Variable(tf.truncated_normal((2, 2, 1, 3)))#random distribution\n",
    "    F_b = tf.Variable(tf.zeros(3))\n",
    "    strides = [1, 2, 2, 1]\n",
    "    padding = 'VALID' #same\n",
    "    return tf.nn.conv2d(input, F_W, strides, padding) + F_b\n",
    "\n",
    "out = conv2d(X)\n",
    "print(out)"
   ]
  },
  {
   "cell_type": "markdown",
   "metadata": {},
   "source": [
    "## pool operations"
   ]
  },
  {
   "cell_type": "code",
   "execution_count": 3,
   "metadata": {},
   "outputs": [
    {
     "name": "stdout",
     "output_type": "stream",
     "text": [
      "(1, 4, 4, 1)\n",
      "[[[[ 2.5]\n",
      "   [ 2.5]\n",
      "   [10. ]\n",
      "   [10. ]]\n",
      "\n",
      "  [[ 4. ]\n",
      "   [ 5. ]\n",
      "   [ 6. ]\n",
      "   [ 6. ]]\n",
      "\n",
      "  [[15. ]\n",
      "   [ 5. ]\n",
      "   [ 6. ]\n",
      "   [ 6. ]]\n",
      "\n",
      "  [[15. ]\n",
      "   [ 2. ]\n",
      "   [ 3. ]\n",
      "   [ 3. ]]]]\n"
     ]
    }
   ],
   "source": [
    "\n",
    "x = np.array([\n",
    "    [0,   1, 0.5,  10],\n",
    "    [2, 2.5,   1,  -8],\n",
    "    [4,   0,   5,   6],\n",
    "    [15,  1,   2,   3]], dtype=np.float32).reshape((1, 4, 4, 1))\n",
    "X = tf.constant(x)\n",
    "\n",
    "def maxpool(input):\n",
    "    ksize = [1, 2, 2, 1]\n",
    "    strides = [1, 1, 1, 1]\n",
    "    padding = 'SAME'\n",
    "    return tf.nn.max_pool(input, ksize, strides, padding)\n",
    "\n",
    "with tf.Session() as sess:\n",
    "    output = sess.run(maxpool(x))\n",
    "    print(output.shape)\n",
    "    print(output)\n",
    "\n",
    "#return output\n",
    "#out = maxpool(X)\n",
    "#print(out)"
   ]
  },
  {
   "cell_type": "markdown",
   "metadata": {},
   "source": [
    "## Merged"
   ]
  },
  {
   "cell_type": "code",
   "execution_count": 4,
   "metadata": {},
   "outputs": [
    {
     "name": "stdout",
     "output_type": "stream",
     "text": [
      "Tensor(\"Conv2D_1:0\", shape=(?, 1, 1, 3), dtype=float32)\n",
      "(2, 1, 1, 3)\n",
      "[[[[-3.7744648e+00  2.3894091e+00  1.5363035e+00]]]\n",
      "\n",
      "\n",
      " [[[-1.5852066e+01 -5.0478430e+00  7.1458817e-03]]]]\n",
      "\n",
      "***********************\n",
      "\n"
     ]
    }
   ],
   "source": [
    "\n",
    "data = np.array([\n",
    "    [   1,    3, 0.13,  27],\n",
    "    [   9, -2.5,  3.6,  -1],\n",
    "    [11.3,    2, -5.1,   0],\n",
    "    [  -2,    1,    2,   5]], dtype=np.float32).reshape((2, 2, 2, 2))\n",
    "\n",
    "def conv2d(input):\n",
    "    x = tf.placeholder(tf.float32,[None,2,2,2])\n",
    "    F_W = tf.Variable(tf.truncated_normal((1, 1, 2, 3)))\n",
    "    F_b = tf.Variable(tf.zeros(3))\n",
    "    strides = [1, 2, 2, 1]\n",
    "    padding = 'VALID'\n",
    "    conv_calc = tf.nn.conv2d(x, F_W, strides, padding)# + F_b\n",
    "    print(conv_calc)\n",
    "    \n",
    "    ksize_pool = [1, 2, 2, 1]\n",
    "    strides_pool = [1, 2, 2, 1]\n",
    "    padding_pool = 'SAME'\n",
    "    pool = tf.nn.max_pool(conv_calc, ksize_pool, strides_pool, padding_pool)\n",
    "    \n",
    "    with tf.Session() as sess:\n",
    "        sess.run(tf.global_variables_initializer())\n",
    "        output = sess.run(pool, feed_dict={x:input})\n",
    "        print(output.shape)\n",
    "        print(output)\n",
    "    return output\n",
    "\n",
    "output_conv = conv2d(data)\n",
    "print(\"\\n***********************\\n\")"
   ]
  }
 ],
 "metadata": {
  "kernelspec": {
   "display_name": "Python 3",
   "language": "python",
   "name": "python3"
  },
  "language_info": {
   "codemirror_mode": {
    "name": "ipython",
    "version": 3
   },
   "file_extension": ".py",
   "mimetype": "text/x-python",
   "name": "python",
   "nbconvert_exporter": "python",
   "pygments_lexer": "ipython3",
   "version": "3.6.10"
  }
 },
 "nbformat": 4,
 "nbformat_minor": 2
}
